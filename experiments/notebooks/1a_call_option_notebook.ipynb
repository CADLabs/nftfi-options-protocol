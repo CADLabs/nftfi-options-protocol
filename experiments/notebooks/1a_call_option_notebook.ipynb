{
 "cells": [
  {
   "cell_type": "code",
   "execution_count": null,
   "metadata": {},
   "outputs": [],
   "source": [
    "# Standard libraries: https://docs.python.org/3/library/\n",
    "import math\n",
    "import numpy as np\n",
    "# Analysis and plotting modules\n",
    "import pandas as pd\n",
    "import plotly\n",
    "import plotly.graph_objects as go\n",
    "\n",
    "# radCAD modules\n",
    "from radcad import Model, Simulation\n",
    "\n",
    "import setup\n",
    "import copy\n",
    "\n",
    "from tqdm.notebook import trange, tqdm"
   ]
  },
  {
   "cell_type": "code",
   "execution_count": null,
   "metadata": {},
   "outputs": [],
   "source": [
    "from experiments.notebook_helpers import *"
   ]
  },
  {
   "cell_type": "code",
   "execution_count": null,
   "metadata": {
    "scrolled": true
   },
   "outputs": [],
   "source": [
    "from model.stochastic_processes import create_stochastic_process_realizations\n",
    "import experiments.simulation_configuration as simulation\n",
    "from experiments.run import run"
   ]
  },
  {
   "cell_type": "code",
   "execution_count": null,
   "metadata": {},
   "outputs": [],
   "source": [
    "# Import experiment templates\n",
    "import experiments.default_experiment as default_experiment"
   ]
  },
  {
   "cell_type": "code",
   "execution_count": null,
   "metadata": {},
   "outputs": [],
   "source": [
    "from model.types import Option"
   ]
  },
  {
   "cell_type": "markdown",
   "metadata": {},
   "source": [
    "## Model"
   ]
  },
  {
   "cell_type": "code",
   "execution_count": null,
   "metadata": {},
   "outputs": [],
   "source": [
    "monte_carlo_runs = simulation.MONTE_CARLO_RUNS\n",
    "n_agents = simulation.N_AGENTS\n",
    "# timesteps = simulation.TIMESTEPS\n",
    "# dt=simulation.DELTA_TIME"
   ]
  },
  {
   "cell_type": "code",
   "execution_count": null,
   "metadata": {},
   "outputs": [],
   "source": [
    "parameter_overrides = {\n",
    "    \"option_type\": ['call'],\n",
    "}"
   ]
  },
  {
   "cell_type": "code",
   "execution_count": null,
   "metadata": {},
   "outputs": [],
   "source": [
    "# Create a simulation for each analysis\n",
    "simulation = copy.deepcopy(default_experiment.experiment.simulations[0])"
   ]
  },
  {
   "cell_type": "code",
   "execution_count": null,
   "metadata": {},
   "outputs": [],
   "source": [
    "# Experiment configuration\n",
    "simulation.runs = monte_carlo_runs\n",
    "\n",
    "# Experiment configuration\n",
    "simulation.model.initial_state.update({})\n",
    "\n",
    "# Override default experiment System Parameters\n",
    "simulation.model.params.update(parameter_overrides)"
   ]
  },
  {
   "cell_type": "code",
   "execution_count": null,
   "metadata": {},
   "outputs": [],
   "source": [
    "#KPI list\n",
    "kpi_list = ['_time_held', '_discounted_payoff_received', '_premium_paid', '_discounted_payoff_paid', '_premium_received']"
   ]
  },
  {
   "cell_type": "markdown",
   "metadata": {},
   "source": [
    "## Call Option"
   ]
  },
  {
   "cell_type": "code",
   "execution_count": null,
   "metadata": {
    "scrolled": true
   },
   "outputs": [],
   "source": [
    "df, exceptions = run(simulation)"
   ]
  },
  {
   "cell_type": "code",
   "execution_count": null,
   "metadata": {},
   "outputs": [],
   "source": [
    "#check_agent_counterparty_for_simulation(df, n_agents, side='buy')"
   ]
  },
  {
   "cell_type": "code",
   "execution_count": null,
   "metadata": {},
   "outputs": [],
   "source": [
    "#check_bought_or_sold_for_run(df, n_agents, run=1, timestep=-1)"
   ]
  },
  {
   "cell_type": "code",
   "execution_count": null,
   "metadata": {
    "scrolled": true
   },
   "outputs": [],
   "source": [
    "L = get_KPIs_for_simulation(df, n_agents, kpi_list, subset=0)"
   ]
  },
  {
   "cell_type": "code",
   "execution_count": null,
   "metadata": {},
   "outputs": [],
   "source": [
    "#del simulation, df, exceptions"
   ]
  },
  {
   "cell_type": "code",
   "execution_count": null,
   "metadata": {},
   "outputs": [],
   "source": [
    "scenario = 'Bear'"
   ]
  },
  {
   "cell_type": "code",
   "execution_count": null,
   "metadata": {},
   "outputs": [],
   "source": [
    "KPI_df = get_summary_stat_for_KPIs(L, 'mean')\n",
    "KPI_regression_df = get_regression_df(KPI_df, ['buyer_pnl', 'seller_pnl'])\n",
    "plot_agent_PnL(KPI_df, KPI_regression_df, scenario, 'Average', 'Call')"
   ]
  },
  {
   "cell_type": "code",
   "execution_count": null,
   "metadata": {},
   "outputs": [],
   "source": [
    "KPI_df = get_summary_stat_for_KPIs(L, 'max')\n",
    "KPI_regression_df = get_regression_df(KPI_df, ['buyer_pnl', 'seller_pnl'])\n",
    "plot_agent_PnL(KPI_df, KPI_regression_df, scenario, 'Max', 'Call')"
   ]
  },
  {
   "cell_type": "code",
   "execution_count": null,
   "metadata": {},
   "outputs": [],
   "source": [
    "KPI_df = get_summary_stat_for_KPIs(L, 'min')\n",
    "KPI_regression_df = get_regression_df(KPI_df, ['buyer_pnl', 'seller_pnl'])\n",
    "plot_agent_PnL(KPI_df, KPI_regression_df, scenario, 'Min', 'Call')"
   ]
  },
  {
   "cell_type": "markdown",
   "metadata": {},
   "source": [
    "## other"
   ]
  },
  {
   "cell_type": "code",
   "execution_count": null,
   "metadata": {},
   "outputs": [],
   "source": [
    "pd.concat([x.describe() for x in L]).groupby(level=0).mean()"
   ]
  },
  {
   "cell_type": "code",
   "execution_count": null,
   "metadata": {},
   "outputs": [],
   "source": [
    "pd.concat([x.describe() for x in L]).groupby(level=0).max()"
   ]
  },
  {
   "cell_type": "code",
   "execution_count": null,
   "metadata": {},
   "outputs": [],
   "source": [
    "pd.concat([x.describe() for x in L]).groupby(level=0).min()"
   ]
  },
  {
   "cell_type": "code",
   "execution_count": null,
   "metadata": {},
   "outputs": [],
   "source": [
    "fig = df.plot(\n",
    "    x='timestep',\n",
    "    y=['volatile_asset_price'],\n",
    "    color='run',\n",
    ")\n",
    "\n",
    "fig.update_layout(\n",
    "    title=\"Volatile Asset price across monte carlo runs\",\n",
    "    xaxis_title=\"Timestep\",\n",
    "    yaxis_title=\"Asset Price\",\n",
    ")\n",
    "\n",
    "fig.show()"
   ]
  },
  {
   "cell_type": "code",
   "execution_count": null,
   "metadata": {},
   "outputs": [],
   "source": [
    "fig = df.plot(\n",
    "    x='timestep',\n",
    "    y=['discounted_payoff'],\n",
    "    color='run',\n",
    ")\n",
    "\n",
    "fig.update_layout(\n",
    "    title=\"Value of discounted Put Option payoff across monte carlo runs\",\n",
    "    xaxis_title=\"Timestep\",\n",
    "    yaxis_title=\"Discounted Option Payoff\",\n",
    ")\n",
    "\n",
    "fig.show()"
   ]
  }
 ],
 "metadata": {
  "kernelspec": {
   "display_name": "Python 3",
   "language": "python",
   "name": "python3"
  },
  "language_info": {
   "codemirror_mode": {
    "name": "ipython",
    "version": 3
   },
   "file_extension": ".py",
   "mimetype": "text/x-python",
   "name": "python",
   "nbconvert_exporter": "python",
   "pygments_lexer": "ipython3",
   "version": "3.8.11"
  },
  "vscode": {
   "interpreter": {
    "hash": "8b320e3a6bb28985d7c1f0150343aad15f9dd1f4ff7ee955e287e8254a61e202"
   }
  }
 },
 "nbformat": 4,
 "nbformat_minor": 4
}
