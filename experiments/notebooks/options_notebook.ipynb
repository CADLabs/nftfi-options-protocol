{
 "cells": [
  {
   "cell_type": "code",
   "execution_count": null,
   "metadata": {},
   "outputs": [],
   "source": [
    "# Standard libraries: https://docs.python.org/3/library/\n",
    "import math\n",
    "import numpy as np\n",
    "# Analysis and plotting modules\n",
    "import pandas as pd\n",
    "import plotly\n",
    "\n",
    "# radCAD modules\n",
    "from radcad import Model, Simulation\n",
    "\n",
    "import setup\n",
    "import copy"
   ]
  },
  {
   "cell_type": "code",
   "execution_count": null,
   "metadata": {
    "scrolled": true
   },
   "outputs": [],
   "source": [
    "from model.stochastic_processes import create_stochastic_process_realizations\n",
    "import experiments.simulation_configuration as simulation\n",
    "from experiments.run import run"
   ]
  },
  {
   "cell_type": "code",
   "execution_count": null,
   "metadata": {},
   "outputs": [],
   "source": [
    "# Import experiment templates\n",
    "import experiments.default_experiment as default_experiment"
   ]
  },
  {
   "cell_type": "markdown",
   "metadata": {},
   "source": [
    "## Model"
   ]
  },
  {
   "cell_type": "code",
   "execution_count": null,
   "metadata": {},
   "outputs": [],
   "source": [
    "monte_carlo_runs = 10"
   ]
  },
  {
   "cell_type": "code",
   "execution_count": null,
   "metadata": {},
   "outputs": [],
   "source": [
    "# Create a simulation for each analysis\n",
    "simulation = copy.deepcopy(default_experiment.experiment.simulations[0])"
   ]
  },
  {
   "cell_type": "code",
   "execution_count": null,
   "metadata": {},
   "outputs": [],
   "source": [
    "#model = Model(initial_state=initial_state, state_update_blocks=state_update_blocks, params=system_params)\n",
    "#simulation = Simulation(model=model, timesteps=timesteps, runs=monte_carlo_runs)"
   ]
  },
  {
   "cell_type": "code",
   "execution_count": null,
   "metadata": {},
   "outputs": [],
   "source": [
    "# Experiment configuration\n",
    "simulation.runs = monte_carlo_runs\n",
    "\n",
    "# Experiment configuration\n",
    "simulation.model.initial_state.update({})\n",
    "\n",
    "# Override default experiment System Parameters\n",
    "simulation.model.params.update({})"
   ]
  },
  {
   "cell_type": "code",
   "execution_count": null,
   "metadata": {},
   "outputs": [],
   "source": []
  },
  {
   "cell_type": "code",
   "execution_count": null,
   "metadata": {
    "scrolled": true
   },
   "outputs": [],
   "source": [
    "df, exceptions = run(simulation)"
   ]
  },
  {
   "cell_type": "markdown",
   "metadata": {},
   "source": [
    "## analysis, post processing"
   ]
  },
  {
   "cell_type": "code",
   "execution_count": null,
   "metadata": {},
   "outputs": [],
   "source": [
    "df.query('run==1')"
   ]
  },
  {
   "cell_type": "code",
   "execution_count": null,
   "metadata": {},
   "outputs": [],
   "source": [
    "df.plot(\n",
    "    x='timestep',\n",
    "    y=['volatile_asset_price']\n",
    ")"
   ]
  },
  {
   "cell_type": "code",
   "execution_count": null,
   "metadata": {},
   "outputs": [],
   "source": [
    "df.plot(\n",
    "    x='timestep',\n",
    "    y=['discounted_payoff']\n",
    ")"
   ]
  },
  {
   "cell_type": "code",
   "execution_count": null,
   "metadata": {
    "scrolled": true
   },
   "outputs": [],
   "source": [
    "def get_option_payoff(df):\n",
    "    \n",
    "    discounted_payoffs = dict()\n",
    "\n",
    "    for run in df[\"run\"].unique():\n",
    "        \n",
    "        df_ = df.query('run == @run')\n",
    "\n",
    "        d_payoff = df_['discounted_payoff'].iloc[-1]\n",
    "        \n",
    "        discounted_payoffs[run] = d_payoff\n",
    "        \n",
    "    return pd.DataFrame(discounted_payoffs.items(), columns=['run', 'option_payoff'])"
   ]
  },
  {
   "cell_type": "code",
   "execution_count": null,
   "metadata": {},
   "outputs": [],
   "source": [
    "initial_price = simulation.model.initial_state['volatile_asset_price']"
   ]
  },
  {
   "cell_type": "code",
   "execution_count": null,
   "metadata": {},
   "outputs": [],
   "source": [
    "payoff_df = get_option_payoff(df)\n",
    "option_price = payoff_df['option_payoff'].mean()"
   ]
  },
  {
   "cell_type": "code",
   "execution_count": null,
   "metadata": {},
   "outputs": [],
   "source": [
    "print('Option price (monte carlo) is:', option_price)"
   ]
  },
  {
   "cell_type": "markdown",
   "metadata": {},
   "source": [
    "# ignore"
   ]
  },
  {
   "cell_type": "code",
   "execution_count": null,
   "metadata": {},
   "outputs": [],
   "source": [
    "class European_Call_Payoff:\n",
    "\n",
    "    def __init__(self, strike):\n",
    "        self.strike = strike\n",
    "\n",
    "    def get_payoff(self, stock_price):\n",
    "        if stock_price > self.strike:\n",
    "            return stock_price - self.strike\n",
    "        else:\n",
    "            return 0"
   ]
  },
  {
   "cell_type": "code",
   "execution_count": null,
   "metadata": {},
   "outputs": [],
   "source": [
    "ec = European_Call_Payoff(initial_price)"
   ]
  },
  {
   "cell_type": "code",
   "execution_count": null,
   "metadata": {
    "scrolled": true
   },
   "outputs": [],
   "source": [
    "def get_option_payoff(option, df):\n",
    "    \n",
    "    discounted_payoffs = dict()\n",
    "\n",
    "    for run in df[\"run\"].unique():\n",
    "        \n",
    "        df_ = df.query('run == @run')\n",
    "\n",
    "        va_price = df_['volatile_asset_price'].iloc[-1]\n",
    "        risk_free_rate = df_['risk_free_rate'].iloc[-1]\n",
    "        rf_daily = risk_free_rate / (timesteps * dt)\n",
    "        d_payoff = option.get_payoff(va_price) * np.exp(-rf_daily* T)\n",
    "        \n",
    "        discounted_payoffs[run] = d_payoff\n",
    "        \n",
    "    return pd.DataFrame(discounted_payoffs.items(), columns=['run', 'option_payoff'])"
   ]
  },
  {
   "cell_type": "code",
   "execution_count": null,
   "metadata": {},
   "outputs": [],
   "source": []
  }
 ],
 "metadata": {
  "kernelspec": {
   "display_name": "Python 3",
   "language": "python",
   "name": "python3"
  },
  "language_info": {
   "codemirror_mode": {
    "name": "ipython",
    "version": 3
   },
   "file_extension": ".py",
   "mimetype": "text/x-python",
   "name": "python",
   "nbconvert_exporter": "python",
   "pygments_lexer": "ipython3",
   "version": "3.8.11"
  },
  "vscode": {
   "interpreter": {
    "hash": "8b320e3a6bb28985d7c1f0150343aad15f9dd1f4ff7ee955e287e8254a61e202"
   }
  }
 },
 "nbformat": 4,
 "nbformat_minor": 4
}
